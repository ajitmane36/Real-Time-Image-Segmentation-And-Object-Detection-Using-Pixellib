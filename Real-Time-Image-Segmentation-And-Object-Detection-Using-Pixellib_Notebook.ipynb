{
 "cells": [
  {
   "cell_type": "markdown",
   "id": "fa3c981b-48a8-4571-8234-c9691ff44a2a",
   "metadata": {},
   "source": [
    "# <u>Real-Time-Image-Segmentation-And-Object-Detection-Using-Pixellib</u>"
   ]
  },
  {
   "cell_type": "code",
   "execution_count": null,
   "id": "fc5812f8-cc32-49a4-9912-f305a24a141a",
   "metadata": {},
   "outputs": [],
   "source": []
  }
 ],
 "metadata": {
  "kernelspec": {
   "display_name": "Python 3 (ipykernel)",
   "language": "python",
   "name": "python3"
  },
  "language_info": {
   "codemirror_mode": {
    "name": "ipython",
    "version": 3
   },
   "file_extension": ".py",
   "mimetype": "text/x-python",
   "name": "python",
   "nbconvert_exporter": "python",
   "pygments_lexer": "ipython3",
   "version": "3.9.19"
  }
 },
 "nbformat": 4,
 "nbformat_minor": 5
}
