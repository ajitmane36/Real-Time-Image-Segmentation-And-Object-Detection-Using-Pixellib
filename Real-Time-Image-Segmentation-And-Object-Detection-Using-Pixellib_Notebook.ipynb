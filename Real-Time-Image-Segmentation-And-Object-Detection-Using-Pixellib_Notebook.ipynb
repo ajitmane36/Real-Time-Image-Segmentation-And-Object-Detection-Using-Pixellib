{
 "cells": [
  {
   "cell_type": "markdown",
   "id": "fa3c981b-48a8-4571-8234-c9691ff44a2a",
   "metadata": {},
   "source": [
    "# <u>Real-Time-Image-Segmentation-And-Object-Detection-Using-Pixellib</u>"
   ]
  },
  {
   "cell_type": "code",
   "execution_count": 7,
   "id": "d2d26549-eb9b-44bc-9590-6bc57ba83abc",
   "metadata": {},
   "outputs": [
    {
     "name": "stdout",
     "output_type": "stream",
     "text": [
      "Requirement already satisfied: pixellib in c:\\users\\ajitm\\anaconda3\\envs\\pixellib_env\\lib\\site-packages (0.7.1)\n",
      "Requirement already satisfied: pillow in c:\\users\\ajitm\\anaconda3\\envs\\pixellib_env\\lib\\site-packages (from pixellib) (10.4.0)\n",
      "Requirement already satisfied: scikit-image in c:\\users\\ajitm\\anaconda3\\envs\\pixellib_env\\lib\\site-packages (from pixellib) (0.24.0)\n",
      "Requirement already satisfied: opencv-python in c:\\users\\ajitm\\anaconda3\\envs\\pixellib_env\\lib\\site-packages (from pixellib) (4.9.0.80)\n",
      "Requirement already satisfied: matplotlib in c:\\users\\ajitm\\anaconda3\\envs\\pixellib_env\\lib\\site-packages (from pixellib) (3.9.2)\n",
      "Requirement already satisfied: imgaug in c:\\users\\ajitm\\anaconda3\\envs\\pixellib_env\\lib\\site-packages (from pixellib) (0.4.0)\n",
      "Requirement already satisfied: labelme2coco in c:\\users\\ajitm\\anaconda3\\envs\\pixellib_env\\lib\\site-packages (from pixellib) (0.2.6)\n",
      "Requirement already satisfied: imantics in c:\\users\\ajitm\\anaconda3\\envs\\pixellib_env\\lib\\site-packages (from pixellib) (0.1.12)\n",
      "Requirement already satisfied: Cython in c:\\users\\ajitm\\anaconda3\\envs\\pixellib_env\\lib\\site-packages (from pixellib) (3.0.11)\n",
      "Requirement already satisfied: pyQt5 in c:\\users\\ajitm\\anaconda3\\envs\\pixellib_env\\lib\\site-packages (from pixellib) (5.15.11)\n",
      "Requirement already satisfied: fvcore in c:\\users\\ajitm\\anaconda3\\envs\\pixellib_env\\lib\\site-packages (from pixellib) (0.1.5.post20221221)\n",
      "Requirement already satisfied: iopath in c:\\users\\ajitm\\anaconda3\\envs\\pixellib_env\\lib\\site-packages (from pixellib) (0.1.10)\n",
      "Requirement already satisfied: omegaconf in c:\\users\\ajitm\\anaconda3\\envs\\pixellib_env\\lib\\site-packages (from pixellib) (2.3.0)\n",
      "Requirement already satisfied: cloudpickle in c:\\users\\ajitm\\anaconda3\\envs\\pixellib_env\\lib\\site-packages (from pixellib) (3.0.0)\n",
      "Requirement already satisfied: termcolor in c:\\users\\ajitm\\anaconda3\\envs\\pixellib_env\\lib\\site-packages (from pixellib) (2.4.0)\n",
      "Requirement already satisfied: yacs in c:\\users\\ajitm\\anaconda3\\envs\\pixellib_env\\lib\\site-packages (from pixellib) (0.1.8)\n",
      "Requirement already satisfied: tabulate in c:\\users\\ajitm\\anaconda3\\envs\\pixellib_env\\lib\\site-packages (from pixellib) (0.9.0)\n",
      "Requirement already satisfied: tqdm in c:\\users\\ajitm\\anaconda3\\envs\\pixellib_env\\lib\\site-packages (from pixellib) (4.66.5)\n",
      "Requirement already satisfied: future in c:\\users\\ajitm\\anaconda3\\envs\\pixellib_env\\lib\\site-packages (from pixellib) (1.0.0)\n",
      "Requirement already satisfied: pydot in c:\\users\\ajitm\\anaconda3\\envs\\pixellib_env\\lib\\site-packages (from pixellib) (3.0.1)\n",
      "Requirement already satisfied: dataclasses in c:\\users\\ajitm\\anaconda3\\envs\\pixellib_env\\lib\\site-packages (from pixellib) (0.6)\n",
      "Requirement already satisfied: hydra-core in c:\\users\\ajitm\\anaconda3\\envs\\pixellib_env\\lib\\site-packages (from pixellib) (1.3.2)\n",
      "Requirement already satisfied: black in c:\\users\\ajitm\\anaconda3\\envs\\pixellib_env\\lib\\site-packages (from pixellib) (24.8.0)\n",
      "Requirement already satisfied: click>=8.0.0 in c:\\users\\ajitm\\anaconda3\\envs\\pixellib_env\\lib\\site-packages (from black->pixellib) (8.1.7)\n",
      "Requirement already satisfied: mypy-extensions>=0.4.3 in c:\\users\\ajitm\\anaconda3\\envs\\pixellib_env\\lib\\site-packages (from black->pixellib) (1.0.0)\n",
      "Requirement already satisfied: packaging>=22.0 in c:\\users\\ajitm\\anaconda3\\envs\\pixellib_env\\lib\\site-packages (from black->pixellib) (24.1)\n",
      "Requirement already satisfied: pathspec>=0.9.0 in c:\\users\\ajitm\\anaconda3\\envs\\pixellib_env\\lib\\site-packages (from black->pixellib) (0.12.1)\n",
      "Requirement already satisfied: platformdirs>=2 in c:\\users\\ajitm\\anaconda3\\envs\\pixellib_env\\lib\\site-packages (from black->pixellib) (3.10.0)\n",
      "Requirement already satisfied: tomli>=1.1.0 in c:\\users\\ajitm\\anaconda3\\envs\\pixellib_env\\lib\\site-packages (from black->pixellib) (2.0.1)\n",
      "Requirement already satisfied: typing-extensions>=4.0.1 in c:\\users\\ajitm\\anaconda3\\envs\\pixellib_env\\lib\\site-packages (from black->pixellib) (4.11.0)\n",
      "Requirement already satisfied: numpy in c:\\users\\ajitm\\anaconda3\\envs\\pixellib_env\\lib\\site-packages (from fvcore->pixellib) (1.26.4)\n",
      "Requirement already satisfied: pyyaml>=5.1 in c:\\users\\ajitm\\anaconda3\\envs\\pixellib_env\\lib\\site-packages (from fvcore->pixellib) (6.0.1)\n",
      "Requirement already satisfied: portalocker in c:\\users\\ajitm\\anaconda3\\envs\\pixellib_env\\lib\\site-packages (from iopath->pixellib) (2.10.1)\n",
      "Requirement already satisfied: antlr4-python3-runtime==4.9.* in c:\\users\\ajitm\\anaconda3\\envs\\pixellib_env\\lib\\site-packages (from hydra-core->pixellib) (4.9.3)\n",
      "Requirement already satisfied: lxml in c:\\users\\ajitm\\anaconda3\\envs\\pixellib_env\\lib\\site-packages (from imantics->pixellib) (5.3.0)\n",
      "Requirement already satisfied: xmljson in c:\\users\\ajitm\\anaconda3\\envs\\pixellib_env\\lib\\site-packages (from imantics->pixellib) (0.2.1)\n",
      "Requirement already satisfied: six in c:\\users\\ajitm\\anaconda3\\envs\\pixellib_env\\lib\\site-packages (from imgaug->pixellib) (1.16.0)\n",
      "Requirement already satisfied: scipy in c:\\users\\ajitm\\anaconda3\\envs\\pixellib_env\\lib\\site-packages (from imgaug->pixellib) (1.13.1)\n",
      "Requirement already satisfied: imageio in c:\\users\\ajitm\\anaconda3\\envs\\pixellib_env\\lib\\site-packages (from imgaug->pixellib) (2.35.1)\n",
      "Requirement already satisfied: Shapely in c:\\users\\ajitm\\anaconda3\\envs\\pixellib_env\\lib\\site-packages (from imgaug->pixellib) (2.0.6)\n",
      "Requirement already satisfied: networkx>=2.8 in c:\\users\\ajitm\\anaconda3\\envs\\pixellib_env\\lib\\site-packages (from scikit-image->pixellib) (3.2.1)\n",
      "Requirement already satisfied: tifffile>=2022.8.12 in c:\\users\\ajitm\\anaconda3\\envs\\pixellib_env\\lib\\site-packages (from scikit-image->pixellib) (2024.8.28)\n",
      "Requirement already satisfied: lazy-loader>=0.4 in c:\\users\\ajitm\\anaconda3\\envs\\pixellib_env\\lib\\site-packages (from scikit-image->pixellib) (0.4)\n",
      "Requirement already satisfied: sahi>=0.8.19 in c:\\users\\ajitm\\anaconda3\\envs\\pixellib_env\\lib\\site-packages (from labelme2coco->pixellib) (0.11.18)\n",
      "Requirement already satisfied: jsonschema>=2.6.0 in c:\\users\\ajitm\\anaconda3\\envs\\pixellib_env\\lib\\site-packages (from labelme2coco->pixellib) (4.19.2)\n",
      "Requirement already satisfied: contourpy>=1.0.1 in c:\\users\\ajitm\\anaconda3\\envs\\pixellib_env\\lib\\site-packages (from matplotlib->pixellib) (1.3.0)\n",
      "Requirement already satisfied: cycler>=0.10 in c:\\users\\ajitm\\anaconda3\\envs\\pixellib_env\\lib\\site-packages (from matplotlib->pixellib) (0.12.1)\n",
      "Requirement already satisfied: fonttools>=4.22.0 in c:\\users\\ajitm\\anaconda3\\envs\\pixellib_env\\lib\\site-packages (from matplotlib->pixellib) (4.53.1)\n",
      "Requirement already satisfied: kiwisolver>=1.3.1 in c:\\users\\ajitm\\anaconda3\\envs\\pixellib_env\\lib\\site-packages (from matplotlib->pixellib) (1.4.5)\n",
      "Requirement already satisfied: pyparsing>=2.3.1 in c:\\users\\ajitm\\anaconda3\\envs\\pixellib_env\\lib\\site-packages (from matplotlib->pixellib) (3.1.4)\n",
      "Requirement already satisfied: python-dateutil>=2.7 in c:\\users\\ajitm\\anaconda3\\envs\\pixellib_env\\lib\\site-packages (from matplotlib->pixellib) (2.9.0.post0)\n",
      "Requirement already satisfied: importlib-resources>=3.2.0 in c:\\users\\ajitm\\anaconda3\\envs\\pixellib_env\\lib\\site-packages (from matplotlib->pixellib) (6.4.4)\n",
      "Requirement already satisfied: PyQt5-sip<13,>=12.15 in c:\\users\\ajitm\\anaconda3\\envs\\pixellib_env\\lib\\site-packages (from pyQt5->pixellib) (12.15.0)\n",
      "Requirement already satisfied: PyQt5-Qt5<5.16.0,>=5.15.2 in c:\\users\\ajitm\\anaconda3\\envs\\pixellib_env\\lib\\site-packages (from pyQt5->pixellib) (5.15.2)\n",
      "Requirement already satisfied: colorama in c:\\users\\ajitm\\anaconda3\\envs\\pixellib_env\\lib\\site-packages (from tqdm->pixellib) (0.4.6)\n",
      "Requirement already satisfied: zipp>=3.1.0 in c:\\users\\ajitm\\anaconda3\\envs\\pixellib_env\\lib\\site-packages (from importlib-resources>=3.2.0->matplotlib->pixellib) (3.17.0)\n",
      "Requirement already satisfied: attrs>=22.2.0 in c:\\users\\ajitm\\anaconda3\\envs\\pixellib_env\\lib\\site-packages (from jsonschema>=2.6.0->labelme2coco->pixellib) (23.1.0)\n",
      "Requirement already satisfied: jsonschema-specifications>=2023.03.6 in c:\\users\\ajitm\\anaconda3\\envs\\pixellib_env\\lib\\site-packages (from jsonschema>=2.6.0->labelme2coco->pixellib) (2023.7.1)\n",
      "Requirement already satisfied: referencing>=0.28.4 in c:\\users\\ajitm\\anaconda3\\envs\\pixellib_env\\lib\\site-packages (from jsonschema>=2.6.0->labelme2coco->pixellib) (0.30.2)\n",
      "Requirement already satisfied: rpds-py>=0.7.1 in c:\\users\\ajitm\\anaconda3\\envs\\pixellib_env\\lib\\site-packages (from jsonschema>=2.6.0->labelme2coco->pixellib) (0.10.6)\n",
      "Requirement already satisfied: pybboxes==0.1.6 in c:\\users\\ajitm\\anaconda3\\envs\\pixellib_env\\lib\\site-packages (from sahi>=0.8.19->labelme2coco->pixellib) (0.1.6)\n",
      "Requirement already satisfied: fire in c:\\users\\ajitm\\anaconda3\\envs\\pixellib_env\\lib\\site-packages (from sahi>=0.8.19->labelme2coco->pixellib) (0.6.0)\n",
      "Requirement already satisfied: terminaltables in c:\\users\\ajitm\\anaconda3\\envs\\pixellib_env\\lib\\site-packages (from sahi>=0.8.19->labelme2coco->pixellib) (3.1.10)\n",
      "Requirement already satisfied: requests in c:\\users\\ajitm\\anaconda3\\envs\\pixellib_env\\lib\\site-packages (from sahi>=0.8.19->labelme2coco->pixellib) (2.32.3)\n",
      "Requirement already satisfied: pywin32>=226 in c:\\users\\ajitm\\anaconda3\\envs\\pixellib_env\\lib\\site-packages (from portalocker->iopath->pixellib) (305.1)\n",
      "Requirement already satisfied: charset-normalizer<4,>=2 in c:\\users\\ajitm\\anaconda3\\envs\\pixellib_env\\lib\\site-packages (from requests->sahi>=0.8.19->labelme2coco->pixellib) (3.3.2)\n",
      "Requirement already satisfied: idna<4,>=2.5 in c:\\users\\ajitm\\anaconda3\\envs\\pixellib_env\\lib\\site-packages (from requests->sahi>=0.8.19->labelme2coco->pixellib) (3.7)\n",
      "Requirement already satisfied: urllib3<3,>=1.21.1 in c:\\users\\ajitm\\anaconda3\\envs\\pixellib_env\\lib\\site-packages (from requests->sahi>=0.8.19->labelme2coco->pixellib) (2.2.2)\n",
      "Requirement already satisfied: certifi>=2017.4.17 in c:\\users\\ajitm\\anaconda3\\envs\\pixellib_env\\lib\\site-packages (from requests->sahi>=0.8.19->labelme2coco->pixellib) (2024.7.4)\n"
     ]
    }
   ],
   "source": [
    "!pip3 install pixellib"
   ]
  },
  {
   "cell_type": "code",
   "execution_count": null,
   "id": "31a9845f-88ac-40aa-851e-6e437bc8bf4f",
   "metadata": {},
   "outputs": [],
   "source": []
  }
 ],
 "metadata": {
  "kernelspec": {
   "display_name": "Python 3 (ipykernel)",
   "language": "python",
   "name": "python3"
  },
  "language_info": {
   "codemirror_mode": {
    "name": "ipython",
    "version": 3
   },
   "file_extension": ".py",
   "mimetype": "text/x-python",
   "name": "python",
   "nbconvert_exporter": "python",
   "pygments_lexer": "ipython3",
   "version": "3.9.19"
  }
 },
 "nbformat": 4,
 "nbformat_minor": 5
}
